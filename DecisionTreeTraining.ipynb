{
 "cells": [
  {
   "cell_type": "code",
   "execution_count": 6,
   "id": "2eadb56f-eddc-401e-ac08-8892d2d9580b",
   "metadata": {},
   "outputs": [
    {
     "name": "stdout",
     "output_type": "stream",
     "text": [
      "Requirement already satisfied: boto3 in ./myenv/lib/python3.12/site-packages (1.35.82)\n",
      "Requirement already satisfied: pandas in ./myenv/lib/python3.12/site-packages (2.2.3)\n",
      "Requirement already satisfied: scikit-learn in ./myenv/lib/python3.12/site-packages (1.6.0)\n",
      "Requirement already satisfied: flask in ./myenv/lib/python3.12/site-packages (3.1.0)\n",
      "Requirement already satisfied: influxdb-client in ./myenv/lib/python3.12/site-packages (1.48.0)\n",
      "Requirement already satisfied: botocore<1.36.0,>=1.35.82 in ./myenv/lib/python3.12/site-packages (from boto3) (1.35.82)\n",
      "Requirement already satisfied: jmespath<2.0.0,>=0.7.1 in ./myenv/lib/python3.12/site-packages (from boto3) (1.0.1)\n",
      "Requirement already satisfied: s3transfer<0.11.0,>=0.10.0 in ./myenv/lib/python3.12/site-packages (from boto3) (0.10.4)\n",
      "Requirement already satisfied: numpy>=1.26.0 in ./myenv/lib/python3.12/site-packages (from pandas) (2.2.0)\n",
      "Requirement already satisfied: python-dateutil>=2.8.2 in ./myenv/lib/python3.12/site-packages (from pandas) (2.9.0.post0)\n",
      "Requirement already satisfied: pytz>=2020.1 in ./myenv/lib/python3.12/site-packages (from pandas) (2024.2)\n",
      "Requirement already satisfied: tzdata>=2022.7 in ./myenv/lib/python3.12/site-packages (from pandas) (2024.2)\n",
      "Requirement already satisfied: scipy>=1.6.0 in ./myenv/lib/python3.12/site-packages (from scikit-learn) (1.14.1)\n",
      "Requirement already satisfied: joblib>=1.2.0 in ./myenv/lib/python3.12/site-packages (from scikit-learn) (1.4.2)\n",
      "Requirement already satisfied: threadpoolctl>=3.1.0 in ./myenv/lib/python3.12/site-packages (from scikit-learn) (3.5.0)\n",
      "Requirement already satisfied: Werkzeug>=3.1 in ./myenv/lib/python3.12/site-packages (from flask) (3.1.3)\n",
      "Requirement already satisfied: Jinja2>=3.1.2 in ./myenv/lib/python3.12/site-packages (from flask) (3.1.4)\n",
      "Requirement already satisfied: itsdangerous>=2.2 in ./myenv/lib/python3.12/site-packages (from flask) (2.2.0)\n",
      "Requirement already satisfied: click>=8.1.3 in ./myenv/lib/python3.12/site-packages (from flask) (8.1.7)\n",
      "Requirement already satisfied: blinker>=1.9 in ./myenv/lib/python3.12/site-packages (from flask) (1.9.0)\n",
      "Requirement already satisfied: reactivex>=4.0.4 in ./myenv/lib/python3.12/site-packages (from influxdb-client) (4.0.4)\n",
      "Requirement already satisfied: certifi>=14.05.14 in ./myenv/lib/python3.12/site-packages (from influxdb-client) (2024.12.14)\n",
      "Requirement already satisfied: setuptools>=21.0.0 in ./myenv/lib/python3.12/site-packages (from influxdb-client) (75.6.0)\n",
      "Requirement already satisfied: urllib3>=1.26.0 in ./myenv/lib/python3.12/site-packages (from influxdb-client) (2.2.3)\n",
      "Requirement already satisfied: MarkupSafe>=2.0 in ./myenv/lib/python3.12/site-packages (from Jinja2>=3.1.2->flask) (3.0.2)\n",
      "Requirement already satisfied: six>=1.5 in ./myenv/lib/python3.12/site-packages (from python-dateutil>=2.8.2->pandas) (1.17.0)\n",
      "Requirement already satisfied: typing-extensions<5.0.0,>=4.1.1 in ./myenv/lib/python3.12/site-packages (from reactivex>=4.0.4->influxdb-client) (4.12.2)\n"
     ]
    }
   ],
   "source": [
    "!pip install boto3 pandas scikit-learn flask influxdb-client"
   ]
  },
  {
   "cell_type": "code",
   "execution_count": 7,
   "id": "64144520-a446-4fc3-b00d-ae1661e17aa4",
   "metadata": {
    "scrolled": true
   },
   "outputs": [
    {
     "name": "stdout",
     "output_type": "stream",
     "text": [
      "   blue  clouds device  green  humidity  luminosity  pressure  rainfall  red  \\\n",
      "0    15       0  ESP32     22     35.08           3   1016.71       0.0   15   \n",
      "1    16       0  ESP32     23     39.12           4   1016.82       0.0   16   \n",
      "2    17       0  ESP32     25     42.12           4   1016.87       0.0   17   \n",
      "3    18       0  ESP32     27     41.30           4   1016.92       0.0   18   \n",
      "4    20       0  ESP32     30     41.33           5   1016.96       0.0   20   \n",
      "\n",
      "   rssi  temperature                            time  visibility  weather  \n",
      "0   -42        18.40  2024-12-06T08:19:48.848604049Z       10000        0  \n",
      "1   -42        16.44  2024-12-06T08:22:25.515115144Z       10000        0  \n",
      "2   -42        15.36  2024-12-06T08:25:02.165617919Z       10000        0  \n",
      "3   -41        15.26  2024-12-06T08:27:38.825231342Z       10000        0  \n",
      "4   -42        15.07  2024-12-06T08:30:15.519030642Z       10000        0  \n"
     ]
    }
   ],
   "source": [
    "import boto3\n",
    "import pandas as pd\n",
    "from io import StringIO\n",
    "\n",
    "bucket_name = 'siotweather'\n",
    "file_key = 'weather_csv.csv'\n",
    "\n",
    "s3 = boto3.client('s3')\n",
    "\n",
    "try:\n",
    "    response = s3.get_object(Bucket=bucket_name, Key=file_key)\n",
    "    data = response['Body'].read().decode('utf-8')\n",
    "    df = pd.read_csv(StringIO(data))\n",
    "    print(df.head())\n",
    "except Exception as e:\n",
    "    print(e)"
   ]
  },
  {
   "cell_type": "code",
   "execution_count": 8,
   "id": "6a398c5e-503f-4a1c-b20a-e2649c52648c",
   "metadata": {},
   "outputs": [
    {
     "name": "stdout",
     "output_type": "stream",
     "text": [
      "Accuracy: 0.95\n",
      "\n",
      "Classification Report:\n",
      "              precision    recall  f1-score   support\n",
      "\n",
      "           0       0.96      0.97      0.96       161\n",
      "           1       0.94      0.92      0.93        89\n",
      "\n",
      "    accuracy                           0.95       250\n",
      "   macro avg       0.95      0.95      0.95       250\n",
      "weighted avg       0.95      0.95      0.95       250\n",
      "\n"
     ]
    }
   ],
   "source": [
    "from sklearn.model_selection import train_test_split\n",
    "from sklearn.tree import DecisionTreeClassifier\n",
    "from sklearn.metrics import accuracy_score, classification_report\n",
    "\n",
    "# Updated features list (excluding 'rssi' and other irrelevant columns)\n",
    "features = ['blue', 'clouds', 'green', 'humidity', 'luminosity', \n",
    "            'pressure', 'rainfall', 'red', 'temperature', 'visibility']\n",
    "target = 'weather'\n",
    "\n",
    "# Prepare the features and target variable\n",
    "X = df[features]\n",
    "y = df[target]\n",
    "\n",
    "# Split data into training and testing sets\n",
    "X_train, X_test, y_train, y_test = train_test_split(X, y, test_size=0.2, random_state=42)\n",
    "\n",
    "# Train a Decision Tree model\n",
    "clf = DecisionTreeClassifier(random_state=42)\n",
    "clf.fit(X_train, y_train)\n",
    "\n",
    "# Make predictions\n",
    "y_pred = clf.predict(X_test)\n",
    "\n",
    "# Evaluate the model\n",
    "accuracy = accuracy_score(y_test, y_pred)\n",
    "print(f\"Accuracy: {accuracy:.2f}\")\n",
    "print(\"\\nClassification Report:\")\n",
    "print(classification_report(y_test, y_pred))"
   ]
  },
  {
   "cell_type": "code",
   "execution_count": 9,
   "id": "3cbbcae0-1c55-4eaf-82b0-43f369ab7b51",
   "metadata": {},
   "outputs": [
    {
     "name": "stdout",
     "output_type": "stream",
     "text": [
      "Successfully uploaded /home/ubuntu/weather.ipynb to s3://siotweather/decision_tree_model.ipynb\n"
     ]
    }
   ],
   "source": [
    "import boto3\n",
    "from botocore.exceptions import NoCredentialsError\n",
    "import os\n",
    "\n",
    "# Define variables\n",
    "bucket_name = 'siotweather'\n",
    "s3_key = 'decision_tree_model.ipynb'  # The path in the bucket\n",
    "notebook_path = '/home/ubuntu/weather.ipynb'        # Local notebook path\n",
    "\n",
    "# Create an S3 client (with IAM role permissions)\n",
    "s3 = boto3.client('s3')\n",
    "\n",
    "try:\n",
    "    # Upload the notebook to S3\n",
    "    s3.upload_file(notebook_path, bucket_name, s3_key)\n",
    "    print(f\"Successfully uploaded {notebook_path} to s3://{bucket_name}/{s3_key}\")\n",
    "except FileNotFoundError:\n",
    "    print(\"The file was not found. Please check the path.\")\n",
    "except NoCredentialsError:\n",
    "    print(\"Credentials not available. Check your IAM role.\")"
   ]
  },
  {
   "cell_type": "code",
   "execution_count": 10,
   "id": "b37bcc0d-8024-4c6a-8ec3-a0127c998fc2",
   "metadata": {},
   "outputs": [
    {
     "name": "stdout",
     "output_type": "stream",
     "text": [
      "Model saved as decision_tree_model.pkl\n"
     ]
    }
   ],
   "source": [
    "import joblib\n",
    "\n",
    "# Save the trained Decision Tree model to a file\n",
    "joblib.dump(clf, 'decision_tree_model.pkl')\n",
    "print(\"Model saved as decision_tree_model.pkl\")"
   ]
  },
  {
   "cell_type": "code",
   "execution_count": 12,
   "id": "c3018b72-3d1a-45e9-bec4-48440cf33f02",
   "metadata": {},
   "outputs": [
    {
     "name": "stdout",
     "output_type": "stream",
     "text": [
      "Model uploaded to s3://siotweather/decision_tree_model.pkl\n"
     ]
    }
   ],
   "source": [
    "import boto3\n",
    "\n",
    "# Define S3 bucket and key\n",
    "bucket_name = 'siotweather'\n",
    "s3_key = 'decision_tree_model.pkl'  # Path in the S3 bucket\n",
    "local_model_path = 'decision_tree_model.pkl'\n",
    "\n",
    "# Upload the model to S3\n",
    "s3 = boto3.client('s3')\n",
    "s3.upload_file(local_model_path, bucket_name, s3_key)\n",
    "\n",
    "print(f\"Model uploaded to s3://{bucket_name}/{s3_key}\")"
   ]
  },
  {
   "cell_type": "code",
   "execution_count": null,
   "id": "882afaaa-4403-4400-ab6f-df0ef547a802",
   "metadata": {},
   "outputs": [],
   "source": []
  },
  {
   "cell_type": "code",
   "execution_count": null,
   "id": "b2deb84d-6e2a-464b-874f-fd9fdbd20a48",
   "metadata": {},
   "outputs": [],
   "source": []
  }
 ],
 "metadata": {
  "kernelspec": {
   "display_name": "Python 3 (ipykernel)",
   "language": "python",
   "name": "python3"
  },
  "language_info": {
   "codemirror_mode": {
    "name": "ipython",
    "version": 3
   },
   "file_extension": ".py",
   "mimetype": "text/x-python",
   "name": "python",
   "nbconvert_exporter": "python",
   "pygments_lexer": "ipython3",
   "version": "3.11.11"
  }
 },
 "nbformat": 4,
 "nbformat_minor": 5
}
